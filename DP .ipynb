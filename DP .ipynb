{
 "cells": [
  {
   "cell_type": "code",
   "execution_count": 1,
   "id": "edf0616d",
   "metadata": {},
   "outputs": [
    {
     "name": "stdout",
     "output_type": "stream",
     "text": [
      "9\n"
     ]
    }
   ],
   "source": [
    "def knapsack(wt,value,W,n):\n",
    "    if(n==0 or W==0):\n",
    "        return 0\n",
    "    if(wt[n-1]<=W):\n",
    "        return(max(value[n-1]+knapsack(wt,value,W-wt[n-1],n-1),knapsack(wt,value,W,n-1)))\n",
    "    elif(wt[n-1]>W):\n",
    "        return(knapsack(wt,value,W,n-1))\n",
    "wt=[1,3,4,5]\n",
    "value=[1,4,5,7]\n",
    "W=7\n",
    "n=len(wt)\n",
    "a=knapsack(wt,value,W,n)\n",
    "print(a)"
   ]
  },
  {
   "cell_type": "code",
   "execution_count": 2,
   "id": "4807b886",
   "metadata": {},
   "outputs": [
    {
     "name": "stdout",
     "output_type": "stream",
     "text": [
      "[[-1, -1, -1, -1, -1, -1, -1, -1], [-1, -1, 1, 1, 1, -1, -1, 1], [-1, -1, 1, 4, -1, -1, -1, 5], [-1, -1, 1, -1, -1, -1, -1, 9], [-1, -1, -1, -1, -1, -1, -1, 9]]\n",
      "9\n"
     ]
    }
   ],
   "source": [
    "#memoization in DP\n",
    "def knapsack(wt,value,W,n,t):\n",
    "    if(n==0 or W==0):\n",
    "        return 0\n",
    "    if(t[n][W]!=-1):\n",
    "        return(t[n][W])\n",
    "    if(wt[n-1]<=W):\n",
    "        t[n][W]=max(value[n-1]+knapsack(wt,value,W-wt[n-1],n-1,t),knapsack(wt,value,W,n-1,t))\n",
    "        return(t[n][W])\n",
    "    elif(wt[n-1]>W):\n",
    "        t[n][W]=knapsack(wt,value,W,n-1,t)\n",
    "        return(t[n][W])\n",
    "wt=[1,3,4,5]\n",
    "value=[1,4,5,7]\n",
    "W=7\n",
    "n=len(wt)\n",
    "t = [[-1 for i in range(W+1)] for i in range(n+1)]\n",
    "\n",
    "a=knapsack(wt,value,W,n,t)\n",
    "print(t)\n",
    "print(a)"
   ]
  },
  {
   "cell_type": "code",
   "execution_count": 3,
   "id": "e0041f57",
   "metadata": {},
   "outputs": [
    {
     "name": "stdout",
     "output_type": "stream",
     "text": [
      "9\n"
     ]
    }
   ],
   "source": [
    "#01 Knapsack Top Down DP\n",
    "def knapsack(wt,value,W,n):\n",
    "    t=[[0 for _  in range(W+1)] for _ in range(n+1)]\n",
    "    for i in range(n+1):\n",
    "        for j in range(W+1):\n",
    "            if(i==0 or j==0):\n",
    "                t[i][j]=0\n",
    "            if(wt[i-1]<=j):\n",
    "                t[i][j]=max(value[i-1]+t[i-1][j-wt[i-1]],t[i-1][j])  \n",
    "            if(wt[i-1]>j):\n",
    "                t[i][j]=t[i-1][j]\n",
    "    return(t[n][W])            \n",
    "wt=[1,3,4,5]\n",
    "value=[1,4,5,7]\n",
    "W=7\n",
    "n=len(wt)\n",
    "a=knapsack(wt,value,W,n)\n",
    "print(a)\n"
   ]
  },
  {
   "cell_type": "code",
   "execution_count": 9,
   "id": "c9eb5ff7",
   "metadata": {},
   "outputs": [
    {
     "name": "stdout",
     "output_type": "stream",
     "text": [
      "True\n"
     ]
    }
   ],
   "source": [
    "#equal sum partition\n",
    "def subset(arr,Sum,n):\n",
    "    t=[[0 for _ in range(Sum+1)] for _ in range(n+1)]\n",
    "    for i in range(n+1):\n",
    "        for j in range(Sum+1):\n",
    "            if(i==0 and j>0):\n",
    "                t[i][j]=False\n",
    "            elif(j==0):\n",
    "                t[i][j]=True\n",
    "            elif(arr[i-1]<=j):\n",
    "                t[i][j]=t[i-1][j-arr[i-1]] or t[i-1][j]\n",
    "            else:\n",
    "                t[i][j]=t[i-1][j]\n",
    "    return(t[n][Sum])\n",
    "arr=[1,2,3]\n",
    "Sum=sum(arr)\n",
    "n=len(arr)\n",
    "if(Sum%2!=0):\n",
    "    print(False)\n",
    "elif(Sum%2==0):\n",
    "    a=subset(arr,Sum//2,n)\n",
    "    print(a)"
   ]
  },
  {
   "cell_type": "code",
   "execution_count": 13,
   "id": "bfb6fecd",
   "metadata": {},
   "outputs": [
    {
     "name": "stdout",
     "output_type": "stream",
     "text": [
      "4\n"
     ]
    }
   ],
   "source": [
    "#minimum subset  sum difference\n",
    "import sys\n",
    "def subset(arr,Sum,n):\n",
    "    t=[[0 for _ in range(Sum+1)] for _ in range(n+1)]\n",
    "    for i in range(n+1):\n",
    "        for j in range(Sum+1):\n",
    "            if(i==0 and j>0):\n",
    "                t[i][j]=False\n",
    "            elif(j==0):\n",
    "                t[i][j]=True \n",
    "            elif(arr[i-1]<=j):\n",
    "                t[i][j]=t[i-1][j-arr[i-1]] or t[i-1][j]\n",
    "                \n",
    "            else:\n",
    "                t[i][j]=t[i-1][j]\n",
    "    v=[]\n",
    "    for j in range(Sum//2+1):\n",
    "        if(t[n][j]==True):\n",
    "            v.append(j)\n",
    "    return v\n",
    "            \n",
    "            \n",
    "arr=[1,2,7]\n",
    "Sum=sum(arr)  \n",
    "n=len(arr)\n",
    "a=subset(arr,Sum,n)\n",
    "l1=[]\n",
    "\n",
    "for i in range(len(a)):\n",
    "    l1.append(Sum-2*i)\n",
    "print(min(l1))\n",
    "    \n",
    "\n",
    " \n",
    "\n",
    "        \n",
    "                "
   ]
  },
  {
   "cell_type": "code",
   "execution_count": 28,
   "id": "53f3662e",
   "metadata": {},
   "outputs": [
    {
     "name": "stdout",
     "output_type": "stream",
     "text": [
      "3\n"
     ]
    }
   ],
   "source": [
    "def subset(arr,Sum,n):\n",
    "    t=[[0 for _ in range(Sum+1)] for _ in range(n+1)]\n",
    "    c=0\n",
    "    for i in range(n+1):\n",
    "        for j in range(Sum+1):\n",
    "            if(i==0 and j>0):\n",
    "                t[i][j]=0\n",
    "            elif(j==0):\n",
    "                t[i][j]=1\n",
    "            elif(arr[i-1]<=j):\n",
    "                t[i][j]=t[i-1][j-arr[i-1]] + t[i-1][j]   \n",
    "            else:\n",
    "                t[i][j]=t[i-1][j]\n",
    "    \n",
    "    return  t[i][j]\n",
    "arr=[1,1,2,3]\n",
    "diff=1\n",
    "sumS1=diff+sum(arr)//2\n",
    "n=len(arr)\n",
    "a=subset(arr,sumS1,n)\n",
    "print(a)\n"
   ]
  },
  {
   "cell_type": "code",
   "execution_count": 13,
   "id": "9aedc014",
   "metadata": {},
   "outputs": [
    {
     "name": "stdout",
     "output_type": "stream",
     "text": [
      "9\n"
     ]
    }
   ],
   "source": [
    "#unbounded knapsack\n",
    "def knapsack(wt,value,w,n):\n",
    "    t=[[0 for i in range(w+1)] for i in range(n+1)]\n",
    "    for i in range(n+1):\n",
    "        for j in range(w+1):\n",
    "            if(i==0 or j==0):\n",
    "                t[i][j]=0\n",
    "            if(wt[i-1]<=j):\n",
    "                t[i][j]=max(value[i-1]+t[i][j-wt[i-1]],t[i-1][j])\n",
    "            else:\n",
    "                t[i][j]=t[i-1][j]\n",
    "    return t[i][j]\n",
    "wt=[1,3,4,5]\n",
    "value=[1,4,5,7]\n",
    "w=7\n",
    "n=len(wt)\n",
    "a=knapsack(wt,value,w,n)\n",
    "print(a)\n"
   ]
  },
  {
   "cell_type": "code",
   "execution_count": 14,
   "id": "949b1b36",
   "metadata": {},
   "outputs": [
    {
     "name": "stdout",
     "output_type": "stream",
     "text": [
      "9\n"
     ]
    }
   ],
   "source": [
    "#01 Knapsack Top Down DP\n",
    "def knapsack(wt,value,W,n):\n",
    "    t=[[0 for _  in range(W+1)] for _ in range(n+1)]\n",
    "    for i in range(n+1):\n",
    "        for j in range(W+1):\n",
    "            if(i==0 or j==0):\n",
    "                t[i][j]=0\n",
    "            if(wt[i-1]<=j):\n",
    "                t[i][j]=max(value[i-1]+t[i][j-wt[i-1]],t[i-1][j])  \n",
    "            if(wt[i-1]>j):\n",
    "                t[i][j]=t[i-1][j]\n",
    "    return(t[n][W])            \n",
    "wt=[1,3,4,5]\n",
    "value=[1,4,5,7]\n",
    "W=7\n",
    "n=len(wt)\n",
    "a=knapsack(wt,value,W,n)\n",
    "print(a)"
   ]
  },
  {
   "cell_type": "code",
   "execution_count": 16,
   "id": "7ac2c134",
   "metadata": {},
   "outputs": [
    {
     "name": "stdout",
     "output_type": "stream",
     "text": [
      "20\n"
     ]
    }
   ],
   "source": [
    "#rodcutting prblm unbounded kanpsack\n",
    "def rodcutting(length,price,w,n):\n",
    "    t=[[0 for i in range(w+1)]for i in range(n+1)]\n",
    "    for i in range(n+1):\n",
    "        for j in range(w+1):\n",
    "            if(i==0 or j==0):\n",
    "                t[i][j]=0\n",
    "            if(length[i-1]<=j):\n",
    "                t[i][j]=max(price[i-1]+t[i][j-length[i-1]],t[i-1][j])\n",
    "            else:\n",
    "                t[i][j]=t[i-1][j]\n",
    "    return t[i][j]\n",
    "            \n",
    "\n",
    "length=[1,2,3,4]\n",
    "price=[5,6,8,8]\n",
    "w=4\n",
    "n=len(length)\n",
    "a=rodcutting(length,price,w,n)\n",
    "print(a)\n",
    "\n",
    "\n"
   ]
  },
  {
   "cell_type": "code",
   "execution_count": 2,
   "id": "87603860",
   "metadata": {},
   "outputs": [
    {
     "name": "stdout",
     "output_type": "stream",
     "text": [
      "5\n"
     ]
    }
   ],
   "source": [
    "#coin change prblm # of count \n",
    "def coinchange(coin,Sum,n):\n",
    "    t=[[0 for i in range(Sum+1)] for i in range(n+1)]\n",
    "    for i in range(n+1):\n",
    "        for j in range(Sum+1):\n",
    "            if(i==0 and j>0):\n",
    "                t[i][j]=0\n",
    "            elif(j==0):\n",
    "                t[i][j]=1\n",
    "            elif(coin[i-1]<=j):\n",
    "                t[i][j]=(t[i][j-coin[i-1]])+(t[i-1][j])\n",
    "            else:\n",
    "                t[i][j]=t[i-1][j]\n",
    "    return t[i][j]\n",
    "coin=[1,2,3]\n",
    "Sum=5\n",
    "n=len(coin)\n",
    "a=coinchange(coin,Sum,n)\n",
    "print(a)\n"
   ]
  },
  {
   "cell_type": "code",
   "execution_count": null,
   "id": "f7380195",
   "metadata": {},
   "outputs": [],
   "source": [
    "#coin exchange prblm min # of coin required\n",
    "import sys\n",
    "def coinchange(coin,Sum,n):\n",
    "    t=[[0 for i in range(Sum+1)] for i in range(n+1)]\n",
    "    for i in range(n+1):\n",
    "        for j in range(Sum+1):\n",
    "            if(i==0 and j>=0):\n",
    "                t[i][j]=sys.maxsize-1\n",
    "            elif(j==0):\n",
    "                t[i][j]=0\n",
    "            elif(i==1):\n",
    "                if(coin[0]%j==0):\n",
    "                    t[i][j]=coin[0]//j\n",
    "                else:\n",
    "                    t[i][j]=sys.maxsize-1\n",
    "            elif(coin[i-1]<=j):\n",
    "                t[i][j]=min(t[i][j-coin[i-1]]+1,t[i-1][j])\n",
    "            else:\n",
    "                t[i][j]=t[i-1][j]\n",
    "    return t[i][j]\n",
    "   \n",
    "coin=[1,2,3,4,5]\n",
    "Sum=11\n",
    "n=len(coin)\n",
    "a=coinchange(coin,Sum,n)\n",
    "print(a)"
   ]
  },
  {
   "cell_type": "code",
   "execution_count": 11,
   "id": "c399fc90",
   "metadata": {},
   "outputs": [
    {
     "name": "stdout",
     "output_type": "stream",
     "text": [
      "9223372036854775807\n"
     ]
    }
   ],
   "source": [
    "import sys\n",
    "print(sys.maxsize)"
   ]
  },
  {
   "cell_type": "code",
   "execution_count": 1,
   "id": "67793f59",
   "metadata": {},
   "outputs": [
    {
     "name": "stdout",
     "output_type": "stream",
     "text": [
      "3\n"
     ]
    }
   ],
   "source": [
    "#longest common subsequence in string with recursive approach\n",
    "def LCS(x,y,n,m):\n",
    "    if(n==0 or m==0):\n",
    "        return 0\n",
    "    else:\n",
    "        if(x[n-1]==y[m-1]):\n",
    "            return 1+LCS(x,y,n-1,m-1)\n",
    "        else:\n",
    "            return max(LCS(x,y,n-1,m),LCS(x,y,n,m-1))\n",
    "x=\"abcdef\"\n",
    "y=\"abedqhr\"\n",
    "n=len(x)\n",
    "m=len(y)\n",
    "a=LCS(x,y,n,m)\n",
    "print(a)\n"
   ]
  },
  {
   "cell_type": "code",
   "execution_count": 20,
   "id": "716fa092",
   "metadata": {},
   "outputs": [
    {
     "name": "stdout",
     "output_type": "stream",
     "text": [
      "4\n"
     ]
    }
   ],
   "source": [
    "#longest common subsequence in string with memozization approach\n",
    "def LCS(x,y,n,m):\n",
    "    t=[[-1 for i in range(m+1)] for i in range(n+1)]\n",
    "    if(n==0 or m==0):\n",
    "         return 0\n",
    "    if(t[n][m]!=-1):\n",
    "             return t[n][m]\n",
    "    else:\n",
    "        if(x[n-1]==y[m-1]):\n",
    "            t[n][m]=1+LCS(x,y,n-1,m-1)\n",
    "            return t[n][m]\n",
    "        else:\n",
    "             t[n][m]=max(LCS(x,y,n-1,m),LCS(x,y,n,m-1))\n",
    "        return t[n][m]\n",
    "\n",
    "x=\"abcd\"\n",
    "y=\"abcd\"\n",
    "n=len(x)\n",
    "m=len(y)\n",
    "a=LCS(x,y,n,m)\n",
    "print(a)\n",
    "\n",
    "\n",
    "\n"
   ]
  },
  {
   "cell_type": "code",
   "execution_count": 3,
   "id": "b2e3d12d",
   "metadata": {},
   "outputs": [
    {
     "name": "stdout",
     "output_type": "stream",
     "text": [
      "3\n"
     ]
    }
   ],
   "source": [
    "#longest common subsequence in string with Top Down approach\n",
    "def LCS(x,y,n,m):\n",
    "    t=[[-1 for _ in range(m+1)]for _ in range(n+1)]\n",
    "    for i in range(n+1):\n",
    "        for j in range(m+1):\n",
    "            if(i==0 or j==0):\n",
    "                t[i][j]=0\n",
    "    for i in range(1,n+1):\n",
    "        for j in range(1,m+1):\n",
    "            if(x[i-1]==y[j-1]):\n",
    "                t[i][j]=1+t[i-1][j-1]\n",
    "            else:\n",
    "                t[i][j]=max(t[i-1][j],t[i][j-1])\n",
    "    return t[i][j]\n",
    "x=\"abcde\"\n",
    "y=\"ace\"\n",
    "n=len(x)\n",
    "m=len(y)\n",
    "a=LCS(x,y,n,m)\n",
    "print(a)\n",
    "        \n",
    "    "
   ]
  },
  {
   "cell_type": "code",
   "execution_count": 4,
   "id": "56d05b41",
   "metadata": {},
   "outputs": [
    {
     "name": "stdout",
     "output_type": "stream",
     "text": [
      "5\n"
     ]
    }
   ],
   "source": [
    "def LCS(x,y,n,m): #substring\n",
    "    t=[[-1 for _ in range(m+1)]for _ in range(n+1)]\n",
    "    mx=0\n",
    "    for i in range(n+1):\n",
    "        for j in range(m+1):\n",
    "            if(i==0 or j==0):\n",
    "                t[i][j]=0\n",
    "    for i in range(1,n+1):\n",
    "        for j in range(1,m+1):\n",
    "            if(x[i-1]==y[j-1]):\n",
    "                t[i][j]=t[i-1][j-1]+1\n",
    "                mx=max(mx,t[i][j])\n",
    "            else:\n",
    "                t[i][j]=0\n",
    "    return mx\n",
    "x=\"GeeksforGeeks\"\n",
    "y=\"GeeksQuiz\"\n",
    "n=len(x)\n",
    "m=len(y)\n",
    "a=LCS(x,y,n,m)\n",
    "print(a)\n",
    "        "
   ]
  },
  {
   "cell_type": "code",
   "execution_count": 5,
   "id": "42111174",
   "metadata": {},
   "outputs": [
    {
     "name": "stdout",
     "output_type": "stream",
     "text": [
      "abcf\n"
     ]
    }
   ],
   "source": [
    "#LCS string name\n",
    "def LCS(x,y,n,m):\n",
    "    t=[[-1 for _ in range(m+1)] for _ in range(n+1)]\n",
    "    for i in range(n+1):\n",
    "        for j in range(m+1):\n",
    "            if(i==0 or j==0):\n",
    "                t[i][j]=0\n",
    "    for i in range(1,n+1):\n",
    "        for j in range(1,m+1):\n",
    "            if(x[i-1]==y[j-1]):\n",
    "                t[i][j]=1+t[i-1][j-1]\n",
    "            else:\n",
    "                t[i][j]=max(t[i-1][j],t[i][j-1])\n",
    "    i=n\n",
    "    j=m\n",
    "    l=[]\n",
    "    while(i>0 and j>0):\n",
    "        if(x[i-1]==y[j-1]):\n",
    "            l.append(x[i-1])\n",
    "            i-=1\n",
    "            j-=1\n",
    "        else:\n",
    "            if(t[i][j-1]>t[i-1][j]):\n",
    "                j-=1\n",
    "            else:\n",
    "                i-=1\n",
    "    return l\n",
    "x=\"abcdaf\"\n",
    "y=\"acbcf\"\n",
    "n=len(x)\n",
    "m=len(y)\n",
    "a=LCS(x,y,n,m)\n",
    "a.reverse()\n",
    "st=''.join(map(str, a))\n",
    "print(st)\n"
   ]
  },
  {
   "cell_type": "code",
   "execution_count": 2,
   "id": "3366510c",
   "metadata": {},
   "outputs": [
    {
     "name": "stdout",
     "output_type": "stream",
     "text": [
      "9\n"
     ]
    }
   ],
   "source": [
    "#shortest common supersequence\n",
    "def LCS(x,y,n,m):\n",
    "    t=[[-1 for _ in range(m+1)]for _ in range(n+1)]\n",
    "    for i in range(n+1):\n",
    "        for j in range(m+1):\n",
    "            if(i==0 or j==0):\n",
    "                t[i][j]=0\n",
    "    for i in range(1,n+1):\n",
    "        for j in range(1,m+1):\n",
    "            if(x[i-1]==y[j-1]):\n",
    "                t[i][j]=1+t[i-1][j-1]\n",
    "            else:\n",
    "                t[i][j]=max(t[i-1][j],t[i][j-1])\n",
    "    return t[i][j]\n",
    "x=\"aggtab\"\n",
    "y=\"gxtxayb\"\n",
    "n=len(x)\n",
    "m=len(y)\n",
    "a=LCS(x,y,n,m)\n",
    "print(m+n-a)\n"
   ]
  },
  {
   "cell_type": "code",
   "execution_count": 3,
   "id": "85f78bb9",
   "metadata": {},
   "outputs": [
    {
     "name": "stdout",
     "output_type": "stream",
     "text": [
      "['a', 'a', 'g', 'b', 'c', 'b', 'a']\n",
      "abcbgaa\n",
      "5\n"
     ]
    }
   ],
   "source": [
    "#longest paliandromic subsequence\n",
    "def LCS(x,y,n,m):\n",
    "    t=[[-1 for _ in range(m+1)]for _ in range(n+1)]\n",
    "    for i in range(n+1):\n",
    "        for j in range(m+1):\n",
    "            if(i==0 or j==0):\n",
    "                t[i][j]=0\n",
    "    for i in range(1,n+1):\n",
    "        for j in range(1,m+1):\n",
    "            if(x[i-1]==y[j-1]):\n",
    "                t[i][j]=t[i-1][j-1]+1\n",
    "            else:\n",
    "                t[i][j]=max(t[i-1][j],t[i][j-1])\n",
    "    return t[i][j]\n",
    "x=\"aagbcba\"\n",
    "a=list(x)\n",
    "print(a)\n",
    "a.reverse()\n",
    "y=''.join(map(str,(a)))\n",
    "print(y)  \n",
    "n=len(x)\n",
    "m=len(y)\n",
    "a=LCS(x,y,n,m)\n",
    "print(a)\n"
   ]
  },
  {
   "cell_type": "code",
   "execution_count": 21,
   "id": "4e1327bb",
   "metadata": {},
   "outputs": [
    {
     "name": "stdout",
     "output_type": "stream",
     "text": [
      "acbcdaf\n"
     ]
    }
   ],
   "source": [
    "#print shortest common supersequence\n",
    "#LCS string name\n",
    "def LCS(x,y,n,m):\n",
    "    t=[[-1 for _ in range(m+1)] for _ in range(n+1)]\n",
    "    for i in range(n+1):\n",
    "        for j in range(m+1):\n",
    "            if(i==0 or j==0):\n",
    "                t[i][j]=0\n",
    "    for i in range(1,n+1):\n",
    "        for j in range(1,m+1):\n",
    "            if(x[i-1]==y[j-1]):\n",
    "                t[i][j]=1+t[i-1][j-1]\n",
    "            else:\n",
    "                t[i][j]=max(t[i-1][j],t[i][j-1])\n",
    "    i=n\n",
    "    j=m\n",
    "    l=[]\n",
    "    while(i>0 and j>0):\n",
    "        if(x[i-1]==y[j-1]):\n",
    "            l.append(x[i-1])\n",
    "            i-=1\n",
    "            j-=1\n",
    "        else:\n",
    "            if(t[i][j-1]>t[i-1][j]):\n",
    "                l.append(y[j-1])\n",
    "                j-=1\n",
    "            else:\n",
    "                l.append(x[i-1])\n",
    "                i-=1\n",
    "    while(i>0):\n",
    "        l.append(x[i-1])\n",
    "        i-=1\n",
    "    while(j>0):\n",
    "        l.append(y[j-1])\n",
    "        j-=1\n",
    "    return l\n",
    "        \n",
    "x=\"abcdaf\"\n",
    "y=\"acbcf\"\n",
    "n=len(x)\n",
    "m=len(y)\n",
    "a=LCS(x,y,n,m)\n",
    "a.reverse()\n",
    "st=''.join(map(str, a))\n",
    "print(st)\n"
   ]
  },
  {
   "cell_type": "code",
   "execution_count": 23,
   "id": "ffc03604",
   "metadata": {},
   "outputs": [
    {
     "name": "stdout",
     "output_type": "stream",
     "text": [
      "4\n"
     ]
    }
   ],
   "source": [
    "x=round(2.9)\n",
    "y=round(1.2)\n",
    "print(x+y)"
   ]
  }
 ],
 "metadata": {
  "kernelspec": {
   "display_name": "Python 3 (ipykernel)",
   "language": "python",
   "name": "python3"
  },
  "language_info": {
   "codemirror_mode": {
    "name": "ipython",
    "version": 3
   },
   "file_extension": ".py",
   "mimetype": "text/x-python",
   "name": "python",
   "nbconvert_exporter": "python",
   "pygments_lexer": "ipython3",
   "version": "3.9.12"
  }
 },
 "nbformat": 4,
 "nbformat_minor": 5
}
