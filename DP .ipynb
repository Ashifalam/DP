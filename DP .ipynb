{
 "cells": [
  {
   "cell_type": "code",
   "execution_count": 1,
   "id": "edf0616d",
   "metadata": {},
   "outputs": [
    {
     "name": "stdout",
     "output_type": "stream",
     "text": [
      "9\n"
     ]
    }
   ],
   "source": [
    "def knapsack(wt,value,W,n):\n",
    "    if(n==0 or W==0):\n",
    "        return 0\n",
    "    if(wt[n-1]<=W):\n",
    "        return(max(value[n-1]+knapsack(wt,value,W-wt[n-1],n-1),knapsack(wt,value,W,n-1)))\n",
    "    elif(wt[n-1]>W):\n",
    "        return(knapsack(wt,value,W,n-1))\n",
    "wt=[1,3,4,5]\n",
    "value=[1,4,5,7]\n",
    "W=7\n",
    "n=len(wt)\n",
    "a=knapsack(wt,value,W,n)\n",
    "print(a)"
   ]
  },
  {
   "cell_type": "code",
   "execution_count": 2,
   "id": "4807b886",
   "metadata": {},
   "outputs": [
    {
     "name": "stdout",
     "output_type": "stream",
     "text": [
      "[[-1, -1, -1, -1, -1, -1, -1, -1], [-1, -1, 1, 1, 1, -1, -1, 1], [-1, -1, 1, 4, -1, -1, -1, 5], [-1, -1, 1, -1, -1, -1, -1, 9], [-1, -1, -1, -1, -1, -1, -1, 9]]\n",
      "9\n"
     ]
    }
   ],
   "source": [
    "#memoization in DP\n",
    "def knapsack(wt,value,W,n,t):\n",
    "    if(n==0 or W==0):\n",
    "        return 0\n",
    "    if(t[n][W]!=-1):\n",
    "        return(t[n][W])\n",
    "    if(wt[n-1]<=W):\n",
    "        t[n][W]=max(value[n-1]+knapsack(wt,value,W-wt[n-1],n-1,t),knapsack(wt,value,W,n-1,t))\n",
    "        return(t[n][W])\n",
    "    elif(wt[n-1]>W):\n",
    "        t[n][W]=knapsack(wt,value,W,n-1,t)\n",
    "        return(t[n][W])\n",
    "wt=[1,3,4,5]\n",
    "value=[1,4,5,7]\n",
    "W=7\n",
    "n=len(wt)\n",
    "t = [[-1 for i in range(W+1)] for i in range(n+1)]\n",
    "\n",
    "a=knapsack(wt,value,W,n,t)\n",
    "print(t)\n",
    "print(a)"
   ]
  },
  {
   "cell_type": "code",
   "execution_count": 3,
   "id": "e0041f57",
   "metadata": {},
   "outputs": [
    {
     "name": "stdout",
     "output_type": "stream",
     "text": [
      "9\n"
     ]
    }
   ],
   "source": [
    "#01 Knapsack Top Down DP\n",
    "def knapsack(wt,value,W,n):\n",
    "    t=[[0 for _  in range(W+1)] for _ in range(n+1)]\n",
    "    for i in range(n+1):\n",
    "        for j in range(W+1):\n",
    "            if(i==0 or j==0):\n",
    "                t[i][j]=0\n",
    "            if(wt[i-1]<=j):\n",
    "                t[i][j]=max(value[i-1]+t[i-1][j-wt[i-1]],t[i-1][j])  \n",
    "            if(wt[i-1]>j):\n",
    "                t[i][j]=t[i-1][j]\n",
    "    return(t[n][W])            \n",
    "wt=[1,3,4,5]\n",
    "value=[1,4,5,7]\n",
    "W=7\n",
    "n=len(wt)\n",
    "a=knapsack(wt,value,W,n)\n",
    "print(a)\n"
   ]
  },
  {
   "cell_type": "code",
   "execution_count": 9,
   "id": "c9eb5ff7",
   "metadata": {},
   "outputs": [
    {
     "name": "stdout",
     "output_type": "stream",
     "text": [
      "True\n"
     ]
    }
   ],
   "source": [
    "#equal sum partition\n",
    "def subset(arr,Sum,n):\n",
    "    t=[[0 for _ in range(Sum+1)] for _ in range(n+1)]\n",
    "    for i in range(n+1):\n",
    "        for j in range(Sum+1):\n",
    "            if(i==0 and j>0):\n",
    "                t[i][j]=False\n",
    "            elif(j==0):\n",
    "                t[i][j]=True\n",
    "            elif(arr[i-1]<=j):\n",
    "                t[i][j]=t[i-1][j-arr[i-1]] or t[i-1][j]\n",
    "            else:\n",
    "                t[i][j]=t[i-1][j]\n",
    "    return(t[n][Sum])\n",
    "arr=[1,2,3]\n",
    "Sum=sum(arr)\n",
    "n=len(arr)\n",
    "if(Sum%2!=0):\n",
    "    print(False)\n",
    "elif(Sum%2==0):\n",
    "    a=subset(arr,Sum//2,n)\n",
    "    print(a)"
   ]
  },
  {
   "cell_type": "code",
   "execution_count": 13,
   "id": "bfb6fecd",
   "metadata": {},
   "outputs": [
    {
     "name": "stdout",
     "output_type": "stream",
     "text": [
      "4\n"
     ]
    }
   ],
   "source": [
    "#minimum subset  sum difference\n",
    "import sys\n",
    "def subset(arr,Sum,n):\n",
    "    t=[[0 for _ in range(Sum+1)] for _ in range(n+1)]\n",
    "    for i in range(n+1):\n",
    "        for j in range(Sum+1):\n",
    "            if(i==0 and j>0):\n",
    "                t[i][j]=False\n",
    "            elif(j==0):\n",
    "                t[i][j]=True \n",
    "            elif(arr[i-1]<=j):\n",
    "                t[i][j]=t[i-1][j-arr[i-1]] or t[i-1][j]\n",
    "                \n",
    "            else:\n",
    "                t[i][j]=t[i-1][j]\n",
    "    v=[]\n",
    "    for j in range(Sum//2+1):\n",
    "        if(t[n][j]==True):\n",
    "            v.append(j)\n",
    "    return v\n",
    "            \n",
    "            \n",
    "arr=[1,2,7]\n",
    "Sum=sum(arr)  \n",
    "n=len(arr)\n",
    "a=subset(arr,Sum,n)\n",
    "l1=[]\n",
    "\n",
    "for i in range(len(a)):\n",
    "    l1.append(Sum-2*i)\n",
    "print(min(l1))\n",
    "    \n",
    "\n",
    " \n",
    "\n",
    "        \n",
    "                "
   ]
  },
  {
   "cell_type": "code",
   "execution_count": 28,
   "id": "53f3662e",
   "metadata": {},
   "outputs": [
    {
     "name": "stdout",
     "output_type": "stream",
     "text": [
      "3\n"
     ]
    }
   ],
   "source": [
    "def subset(arr,Sum,n):\n",
    "    t=[[0 for _ in range(Sum+1)] for _ in range(n+1)]\n",
    "    c=0\n",
    "    for i in range(n+1):\n",
    "        for j in range(Sum+1):\n",
    "            if(i==0 and j>0):\n",
    "                t[i][j]=0\n",
    "            elif(j==0):\n",
    "                t[i][j]=1\n",
    "            elif(arr[i-1]<=j):\n",
    "                t[i][j]=t[i-1][j-arr[i-1]] + t[i-1][j]   \n",
    "            else:\n",
    "                t[i][j]=t[i-1][j]\n",
    "    \n",
    "    return  t[i][j]\n",
    "arr=[1,1,2,3]\n",
    "diff=1\n",
    "sumS1=diff+sum(arr)//2\n",
    "n=len(arr)\n",
    "a=subset(arr,sumS1,n)\n",
    "print(a)\n"
   ]
  },
  {
   "cell_type": "code",
   "execution_count": 13,
   "id": "9aedc014",
   "metadata": {},
   "outputs": [
    {
     "name": "stdout",
     "output_type": "stream",
     "text": [
      "9\n"
     ]
    }
   ],
   "source": [
    "#unbounded knapsack\n",
    "def knapsack(wt,value,w,n):\n",
    "    t=[[0 for i in range(w+1)] for i in range(n+1)]\n",
    "    for i in range(n+1):\n",
    "        for j in range(w+1):\n",
    "            if(i==0 or j==0):\n",
    "                t[i][j]=0\n",
    "            if(wt[i-1]<=j):\n",
    "                t[i][j]=max(value[i-1]+t[i][j-wt[i-1]],t[i-1][j])\n",
    "            else:\n",
    "                t[i][j]=t[i-1][j]\n",
    "    return t[i][j]\n",
    "wt=[1,3,4,5]\n",
    "value=[1,4,5,7]\n",
    "w=7\n",
    "n=len(wt)\n",
    "a=knapsack(wt,value,w,n)\n",
    "print(a)\n"
   ]
  },
  {
   "cell_type": "code",
   "execution_count": 14,
   "id": "949b1b36",
   "metadata": {},
   "outputs": [
    {
     "name": "stdout",
     "output_type": "stream",
     "text": [
      "9\n"
     ]
    }
   ],
   "source": [
    "#01 Knapsack Top Down DP\n",
    "def knapsack(wt,value,W,n):\n",
    "    t=[[0 for _  in range(W+1)] for _ in range(n+1)]\n",
    "    for i in range(n+1):\n",
    "        for j in range(W+1):\n",
    "            if(i==0 or j==0):\n",
    "                t[i][j]=0\n",
    "            if(wt[i-1]<=j):\n",
    "                t[i][j]=max(value[i-1]+t[i][j-wt[i-1]],t[i-1][j])  \n",
    "            if(wt[i-1]>j):\n",
    "                t[i][j]=t[i-1][j]\n",
    "    return(t[n][W])            \n",
    "wt=[1,3,4,5]\n",
    "value=[1,4,5,7]\n",
    "W=7\n",
    "n=len(wt)\n",
    "a=knapsack(wt,value,W,n)\n",
    "print(a)"
   ]
  },
  {
   "cell_type": "code",
   "execution_count": 16,
   "id": "7ac2c134",
   "metadata": {},
   "outputs": [
    {
     "name": "stdout",
     "output_type": "stream",
     "text": [
      "20\n"
     ]
    }
   ],
   "source": [
    "#rodcutting prblm unbounded kanpsack\n",
    "def rodcutting(length,price,w,n):\n",
    "    t=[[0 for i in range(w+1)]for i in range(n+1)]\n",
    "    for i in range(n+1):\n",
    "        for j in range(w+1):\n",
    "            if(i==0 or j==0):\n",
    "                t[i][j]=0\n",
    "            if(length[i-1]<=j):\n",
    "                t[i][j]=max(price[i-1]+t[i][j-length[i-1]],t[i-1][j])\n",
    "            else:\n",
    "                t[i][j]=t[i-1][j]\n",
    "    return t[i][j]\n",
    "            \n",
    "\n",
    "length=[1,2,3,4]\n",
    "price=[5,6,8,8]\n",
    "w=4\n",
    "n=len(length)\n",
    "a=rodcutting(length,price,w,n)\n",
    "print(a)\n",
    "\n",
    "\n"
   ]
  },
  {
   "cell_type": "code",
   "execution_count": 2,
   "id": "87603860",
   "metadata": {},
   "outputs": [
    {
     "name": "stdout",
     "output_type": "stream",
     "text": [
      "5\n"
     ]
    }
   ],
   "source": [
    "#coin change prblm # of count \n",
    "def coinchange(coin,Sum,n):\n",
    "    t=[[0 for i in range(Sum+1)] for i in range(n+1)]\n",
    "    for i in range(n+1):\n",
    "        for j in range(Sum+1):\n",
    "            if(i==0 and j>0):\n",
    "                t[i][j]=0\n",
    "            elif(j==0):\n",
    "                t[i][j]=1\n",
    "            elif(coin[i-1]<=j):\n",
    "                t[i][j]=(t[i][j-coin[i-1]])+(t[i-1][j])\n",
    "            else:\n",
    "                t[i][j]=t[i-1][j]\n",
    "    return t[i][j]\n",
    "coin=[1,2,3]\n",
    "Sum=5\n",
    "n=len(coin)\n",
    "a=coinchange(coin,Sum,n)\n",
    "print(a)\n"
   ]
  },
  {
   "cell_type": "code",
   "execution_count": null,
   "id": "f7380195",
   "metadata": {},
   "outputs": [],
   "source": [
    "#coin exchange prblm min # of coin required\n",
    "import sys\n",
    "def coinchange(coin,Sum,n):\n",
    "    t=[[0 for i in range(Sum+1)] for i in range(n+1)]\n",
    "    for i in range(n+1):\n",
    "        for j in range(Sum+1):\n",
    "            if(i==0 and j>=0):\n",
    "                t[i][j]=sys.maxsize-1\n",
    "            elif(j==0):\n",
    "                t[i][j]=0\n",
    "            elif(i==1):\n",
    "                if(coin[0]%j==0):\n",
    "                    t[i][j]=coin[0]//j\n",
    "                else:\n",
    "                    t[i][j]=sys.maxsize-1\n",
    "            elif(coin[i-1]<=j):\n",
    "                t[i][j]=min(t[i][j-coin[i-1]]+1,t[i-1][j])\n",
    "            else:\n",
    "                t[i][j]=t[i-1][j]\n",
    "    return t[i][j]\n",
    "   \n",
    "coin=[1,2,3,4,5]\n",
    "Sum=11\n",
    "n=len(coin)\n",
    "a=coinchange(coin,Sum,n)\n",
    "print(a)"
   ]
  },
  {
   "cell_type": "code",
   "execution_count": 11,
   "id": "c399fc90",
   "metadata": {},
   "outputs": [
    {
     "name": "stdout",
     "output_type": "stream",
     "text": [
      "9223372036854775807\n"
     ]
    }
   ],
   "source": [
    "import sys\n",
    "print(sys.maxsize)"
   ]
  },
  {
   "cell_type": "code",
   "execution_count": 1,
   "id": "67793f59",
   "metadata": {},
   "outputs": [
    {
     "name": "stdout",
     "output_type": "stream",
     "text": [
      "3\n"
     ]
    }
   ],
   "source": [
    "#longest common subsequence in string with recursive approach\n",
    "def LCS(x,y,n,m):\n",
    "    if(n==0 or m==0):\n",
    "        return 0\n",
    "    else:\n",
    "        if(x[n-1]==y[m-1]):\n",
    "            return 1+LCS(x,y,n-1,m-1)\n",
    "        else:\n",
    "            return max(LCS(x,y,n-1,m),LCS(x,y,n,m-1))\n",
    "x=\"abcdef\"\n",
    "y=\"abedqhr\"\n",
    "n=len(x)\n",
    "m=len(y)\n",
    "a=LCS(x,y,n,m)\n",
    "print(a)\n"
   ]
  },
  {
   "cell_type": "code",
   "execution_count": 20,
   "id": "716fa092",
   "metadata": {},
   "outputs": [
    {
     "name": "stdout",
     "output_type": "stream",
     "text": [
      "4\n"
     ]
    }
   ],
   "source": [
    "#longest common subsequence in string with memozization approach\n",
    "def LCS(x,y,n,m):\n",
    "    t=[[-1 for i in range(m+1)] for i in range(n+1)]\n",
    "    if(n==0 or m==0):\n",
    "         return 0\n",
    "    if(t[n][m]!=-1):\n",
    "             return t[n][m]\n",
    "    else:\n",
    "        if(x[n-1]==y[m-1]):\n",
    "            t[n][m]=1+LCS(x,y,n-1,m-1)\n",
    "            return t[n][m]\n",
    "        else:\n",
    "             t[n][m]=max(LCS(x,y,n-1,m),LCS(x,y,n,m-1))\n",
    "        return t[n][m]\n",
    "\n",
    "x=\"abcd\"\n",
    "y=\"abcd\"\n",
    "n=len(x)\n",
    "m=len(y)\n",
    "a=LCS(x,y,n,m)\n",
    "print(a)\n",
    "\n",
    "\n",
    "\n"
   ]
  },
  {
   "cell_type": "code",
   "execution_count": 3,
   "id": "b2e3d12d",
   "metadata": {},
   "outputs": [
    {
     "name": "stdout",
     "output_type": "stream",
     "text": [
      "3\n"
     ]
    }
   ],
   "source": [
    "#longest common subsequence in string with Top Down approach\n",
    "def LCS(x,y,n,m):\n",
    "    t=[[-1 for _ in range(m+1)]for _ in range(n+1)]\n",
    "    for i in range(n+1):\n",
    "        for j in range(m+1):\n",
    "            if(i==0 or j==0):\n",
    "                t[i][j]=0\n",
    "    for i in range(1,n+1):\n",
    "        for j in range(1,m+1):\n",
    "            if(x[i-1]==y[j-1]):\n",
    "                t[i][j]=1+t[i-1][j-1]\n",
    "            else:\n",
    "                t[i][j]=max(t[i-1][j],t[i][j-1])\n",
    "    return t[i][j]\n",
    "x=\"abcde\"\n",
    "y=\"ace\"\n",
    "n=len(x)\n",
    "m=len(y)\n",
    "a=LCS(x,y,n,m)\n",
    "print(a)\n",
    "        \n",
    "    "
   ]
  },
  {
   "cell_type": "code",
   "execution_count": 4,
   "id": "56d05b41",
   "metadata": {},
   "outputs": [
    {
     "name": "stdout",
     "output_type": "stream",
     "text": [
      "5\n"
     ]
    }
   ],
   "source": [
    "def LCS(x,y,n,m): #substring\n",
    "    t=[[-1 for _ in range(m+1)]for _ in range(n+1)]\n",
    "    mx=0\n",
    "    for i in range(n+1):\n",
    "        for j in range(m+1):\n",
    "            if(i==0 or j==0):\n",
    "                t[i][j]=0\n",
    "    for i in range(1,n+1):\n",
    "        for j in range(1,m+1):\n",
    "            if(x[i-1]==y[j-1]):\n",
    "                t[i][j]=t[i-1][j-1]+1\n",
    "                mx=max(mx,t[i][j])\n",
    "            else:\n",
    "                t[i][j]=0\n",
    "    return mx\n",
    "x=\"GeeksforGeeks\"\n",
    "y=\"GeeksQuiz\"\n",
    "n=len(x)\n",
    "m=len(y)\n",
    "a=LCS(x,y,n,m)\n",
    "print(a)\n",
    "        "
   ]
  },
  {
   "cell_type": "code",
   "execution_count": 5,
   "id": "42111174",
   "metadata": {},
   "outputs": [
    {
     "name": "stdout",
     "output_type": "stream",
     "text": [
      "abcf\n"
     ]
    }
   ],
   "source": [
    "#LCS string name\n",
    "def LCS(x,y,n,m):\n",
    "    t=[[-1 for _ in range(m+1)] for _ in range(n+1)]\n",
    "    for i in range(n+1):\n",
    "        for j in range(m+1):\n",
    "            if(i==0 or j==0):\n",
    "                t[i][j]=0\n",
    "    for i in range(1,n+1):\n",
    "        for j in range(1,m+1):\n",
    "            if(x[i-1]==y[j-1]):\n",
    "                t[i][j]=1+t[i-1][j-1]\n",
    "            else:\n",
    "                t[i][j]=max(t[i-1][j],t[i][j-1])\n",
    "    i=n\n",
    "    j=m\n",
    "    l=[]\n",
    "    while(i>0 and j>0):\n",
    "        if(x[i-1]==y[j-1]):\n",
    "            l.append(x[i-1])\n",
    "            i-=1\n",
    "            j-=1\n",
    "        else:\n",
    "            if(t[i][j-1]>t[i-1][j]):\n",
    "                j-=1\n",
    "            else:\n",
    "                i-=1\n",
    "    return l\n",
    "x=\"abcdaf\"\n",
    "y=\"acbcf\"\n",
    "n=len(x)\n",
    "m=len(y)\n",
    "a=LCS(x,y,n,m)\n",
    "a.reverse()\n",
    "st=''.join(map(str, a))\n",
    "print(st)\n"
   ]
  },
  {
   "cell_type": "code",
   "execution_count": 2,
   "id": "3366510c",
   "metadata": {},
   "outputs": [
    {
     "name": "stdout",
     "output_type": "stream",
     "text": [
      "9\n"
     ]
    }
   ],
   "source": [
    "#shortest common supersequence\n",
    "def LCS(x,y,n,m):\n",
    "    t=[[-1 for _ in range(m+1)]for _ in range(n+1)]\n",
    "    for i in range(n+1):\n",
    "        for j in range(m+1):\n",
    "            if(i==0 or j==0):\n",
    "                t[i][j]=0\n",
    "    for i in range(1,n+1):\n",
    "        for j in range(1,m+1):\n",
    "            if(x[i-1]==y[j-1]):\n",
    "                t[i][j]=1+t[i-1][j-1]\n",
    "            else:\n",
    "                t[i][j]=max(t[i-1][j],t[i][j-1])\n",
    "    return t[i][j]\n",
    "x=\"aggtab\"\n",
    "y=\"gxtxayb\"\n",
    "n=len(x)\n",
    "m=len(y)\n",
    "a=LCS(x,y,n,m)\n",
    "print(m+n-a)\n"
   ]
  },
  {
   "cell_type": "code",
   "execution_count": 6,
   "id": "85f78bb9",
   "metadata": {},
   "outputs": [
    {
     "name": "stdout",
     "output_type": "stream",
     "text": [
      "['a', 'a', 'g', 'b', 'c', 'b', 'a']\n",
      "abcbgaa\n",
      "5\n"
     ]
    }
   ],
   "source": [
    "#longest paliandromic subsequence\n",
    "def LCS(x,y,n,m):\n",
    "    t=[[-1 for _ in range(m+1)]for _ in range(n+1)]\n",
    "    for i in range(n+1):\n",
    "        for j in range(m+1):\n",
    "            if(i==0 or j==0):\n",
    "                t[i][j]=0\n",
    "    for i in range(1,n+1):\n",
    "        for j in range(1,m+1):\n",
    "            if(x[i-1]==y[j-1]):\n",
    "                t[i][j]=t[i-1][j-1]+1\n",
    "            else:\n",
    "                t[i][j]=max(t[i-1][j],t[i][j-1])\n",
    "    return t[i][j]\n",
    "x=\"aagbcba\"\n",
    "a=list(x)\n",
    "print(a)\n",
    "a.reverse()\n",
    "y=''.join(map(str,(a)))\n",
    "print(y)  \n",
    "n=len(x)\n",
    "m=len(y)\n",
    "a=LCS(x,y,n,m)\n",
    "print(a)\n"
   ]
  },
  {
   "cell_type": "code",
   "execution_count": 9,
   "id": "136a3be6",
   "metadata": {},
   "outputs": [
    {
     "name": "stdout",
     "output_type": "stream",
     "text": [
      "['a', 'g', 'b', 'c', 'b', 'a']\n",
      "abcbga\n",
      "1\n"
     ]
    }
   ],
   "source": [
    "#min no. of deletion to make it paliandrome \n",
    "def LCS(x,y,n,m):\n",
    "    t=[[-1 for _ in range(m+1)]for _ in range(n+1)]\n",
    "    for i in range(n+1):\n",
    "        for j in range(m+1):\n",
    "            if(i==0 or j==0):\n",
    "                t[i][j]=0\n",
    "    for i in range(1,n+1):\n",
    "        for j in range(1,m+1):\n",
    "            if(x[i-1]==y[j-1]):\n",
    "                t[i][j]=t[i-1][j-1]+1\n",
    "            else:\n",
    "                t[i][j]=max(t[i-1][j],t[i][j-1])\n",
    "    return t[i][j]\n",
    "x=\"agbcba\"\n",
    "a=list(x)\n",
    "print(a)\n",
    "a.reverse()\n",
    "y=''.join(map(str,(a)))\n",
    "print(y)\n",
    "n=len(x)\n",
    "m=len(y)\n",
    "a=LCS(x,y,n,m)\n",
    "ans=n-a\n",
    "print(ans)  "
   ]
  },
  {
   "cell_type": "code",
   "execution_count": 21,
   "id": "4e1327bb",
   "metadata": {},
   "outputs": [
    {
     "name": "stdout",
     "output_type": "stream",
     "text": [
      "acbcdaf\n"
     ]
    }
   ],
   "source": [
    "#print shortest common supersequence\n",
    "#LCS string name\n",
    "def LCS(x,y,n,m):\n",
    "    t=[[-1 for _ in range(m+1)] for _ in range(n+1)]\n",
    "    for i in range(n+1):\n",
    "        for j in range(m+1):\n",
    "            if(i==0 or j==0):\n",
    "                t[i][j]=0\n",
    "    for i in range(1,n+1):\n",
    "        for j in range(1,m+1):\n",
    "            if(x[i-1]==y[j-1]):\n",
    "                t[i][j]=1+t[i-1][j-1]\n",
    "            else:\n",
    "                t[i][j]=max(t[i-1][j],t[i][j-1])\n",
    "    i=n\n",
    "    j=m\n",
    "    l=[]\n",
    "    while(i>0 and j>0):\n",
    "        if(x[i-1]==y[j-1]):\n",
    "            l.append(x[i-1])\n",
    "            i-=1\n",
    "            j-=1\n",
    "        else:\n",
    "            if(t[i][j-1]>t[i-1][j]):\n",
    "                l.append(y[j-1])\n",
    "                j-=1\n",
    "            else:\n",
    "                l.append(x[i-1])\n",
    "                i-=1\n",
    "    while(i>0):\n",
    "        l.append(x[i-1])\n",
    "        i-=1\n",
    "    while(j>0):\n",
    "        l.append(y[j-1])\n",
    "        j-=1\n",
    "    return l\n",
    "        \n",
    "x=\"abcdaf\"\n",
    "y=\"acbcf\"\n",
    "n=len(x)\n",
    "m=len(y)\n",
    "a=LCS(x,y,n,m)\n",
    "a.reverse()\n",
    "st=''.join(map(str, a))\n",
    "print(st)\n"
   ]
  },
  {
   "cell_type": "code",
   "execution_count": 1,
   "id": "ffc03604",
   "metadata": {},
   "outputs": [
    {
     "name": "stdout",
     "output_type": "stream",
     "text": [
      "3\n"
     ]
    }
   ],
   "source": [
    "#largest repeating subsequence\n",
    "def LCS(x,y,n,m):\n",
    "    t=[[-1 for _ in range(m+1)]for _ in range(n+1)]\n",
    "    for i in range(n+1):\n",
    "        for j in range(m+1):\n",
    "            if(i==0 or j==0):\n",
    "                t[i][j]=0\n",
    "    for i in range(1,n+1):\n",
    "        for j in range(1,m+1):\n",
    "            if(x[i-1]==y[j-1] and i!=j):\n",
    "                t[i][j]=1+t[i-1][j-1]\n",
    "            else:\n",
    "                t[i][j]=max(t[i-1][j],t[i][j-1])\n",
    "    return t[i][j] \n",
    "x=\"aabebcdd\"\n",
    "y=\"aabebcdd\"\n",
    "n=len(x)\n",
    "m=len(y)\n",
    "a=LCS(x,y,n,m)\n",
    "print(a)"
   ]
  },
  {
   "cell_type": "code",
   "execution_count": 4,
   "id": "23652e5e",
   "metadata": {},
   "outputs": [
    {
     "name": "stdout",
     "output_type": "stream",
     "text": [
      "YES\n"
     ]
    }
   ],
   "source": [
    "#sequence pattern matching \n",
    "def LCS(x,y,n,m):\n",
    "    t=[[-1 for i in range(m+1)] for i in range(n+1)]\n",
    "    for i in range(n+1):\n",
    "        for j in range(m+1):\n",
    "            if(i==0 or j==0):\n",
    "                t[i][j]=0\n",
    "            if(x[i-1]==y[j-1]):\n",
    "                t[i][j]=1+t[i-1][j-1]\n",
    "            else:\n",
    "                t[i][j]=max(t[i-1][j],t[i][j-1])\n",
    "    return t[i][j]\n",
    "x=\"axy\"\n",
    "y=\"adxcpy\"\n",
    "n=len(x)\n",
    "m=len(y)\n",
    "a=LCS(x,y,n,m)\n",
    "if(a==n):\n",
    "    print(\"YES\")\n",
    "else:\n",
    "    pritn(\"NO\")\n",
    "            "
   ]
  },
  {
   "cell_type": "code",
   "execution_count": 1,
   "id": "35868b63",
   "metadata": {},
   "outputs": [],
   "source": [
    "# min no. of deletion in a string to make it a paliandrome \n",
    "# same as that of no of deletion"
   ]
  },
  {
   "cell_type": "code",
   "execution_count": 4,
   "id": "1e61db26",
   "metadata": {},
   "outputs": [
    {
     "name": "stdout",
     "output_type": "stream",
     "text": [
      "48000\n"
     ]
    }
   ],
   "source": [
    "#MCM with recurssion \n",
    "import sys\n",
    "def solve(arr,i,j):\n",
    "    if(i>=j):\n",
    "        return 0\n",
    "    mn=sys.maxsize\n",
    "    for k in range(i,j):\n",
    "        temp_ans=solve(arr,i,k)+solve(arr,k+1,j)+arr[i-1]*arr[k]*arr[j]\n",
    "    if(temp_ans<mn):\n",
    "        mn=temp_ans\n",
    "    return mn\n",
    "arr=[40,20,30,10,30]\n",
    "n=len(arr)\n",
    "a=solve(arr,1,n-1)\n",
    "print(a)"
   ]
  },
  {
   "cell_type": "code",
   "execution_count": 6,
   "id": "f1d414b8",
   "metadata": {},
   "outputs": [
    {
     "name": "stdout",
     "output_type": "stream",
     "text": [
      "48000\n"
     ]
    }
   ],
   "source": [
    "#MCM with memozization\n",
    "import sys\n",
    "def solve(arr,i,j):\n",
    "    t=[[-1 for _ in range(j+1)] for _ in range(i+1)]\n",
    "    if(i>=j):\n",
    "        return 0\n",
    "    if(t[i][j]!=-1):\n",
    "        return t[i][j]\n",
    "    mn=sys.maxsize\n",
    "    for k in range(i,j):\n",
    "        temp_ans=solve(arr,i,k)+solve(arr,k+1,j)+arr[i-1]*arr[k]*arr[j]\n",
    "    if(temp_ans<mn):\n",
    "        mn=temp_ans\n",
    "        t[i][j]=mn\n",
    "    return t[i][j]\n",
    "arr=[40,20,30,10,30]\n",
    "n=len(arr)\n",
    "a=solve(arr,1,n-1)\n",
    "print(a)"
   ]
  },
  {
   "cell_type": "code",
   "execution_count": null,
   "id": "ac9775f9",
   "metadata": {},
   "outputs": [],
   "source": [
    "# palindrome partition\n",
    "import sys\n",
    "def solve(s,i,j):\n",
    "        if(i>=j or ispalindrome(s,i,j)):\n",
    "            return 0\n",
    "        mn=sys.maxsize\n",
    "        for k in range(i,j):\n",
    "            temp_ans=solve(s,i,k)+solve(s,k+1,j)+1\n",
    "        if(temp_ans<mn):\n",
    "            mn=temp_ans\n",
    "        return mn\n",
    "def ispalindrome(s,i,j):\n",
    "    while(i<=j):\n",
    "        if(s[i]!=s[j]):\n",
    "            return False\n",
    "        i+=1\n",
    "        j-=1\n",
    "    return True\n",
    "s=\"nitin\"\n",
    "n=len(s)\n",
    "a=solve(s,0,n-1)\n",
    "print(a)"
   ]
  },
  {
   "cell_type": "code",
   "execution_count": 21,
   "id": "54be04f6",
   "metadata": {},
   "outputs": [
    {
     "name": "stdout",
     "output_type": "stream",
     "text": [
      "0\n"
     ]
    }
   ],
   "source": [
    "#paliandromic partition with recurssion \n",
    "import sys\n",
    "def solve(s,i,j):\n",
    "    if(i>=j):\n",
    "        return 0\n",
    "    if( ispalindrome(s,i,j)==True): \n",
    "        return 0\n",
    "    mn=sys.maxsize\n",
    "    for k in range(i,j):\n",
    "        temp_ans=solve(s,i,k)+solve(s,k+1,j)+1\n",
    "    mn=min(mn,temp_ans)\n",
    "    return mn\n",
    "def ispalindrome(s,i,j):\n",
    "    if(i==j):\n",
    "        return True \n",
    "    if(i>j):\n",
    "        return True\n",
    "    while(i<j): \n",
    "        if(s[i]!=s[j]):\n",
    "            return False\n",
    "        i+=1\n",
    "        j-=1\n",
    "    return True\n",
    "s=\"mam\"\n",
    "n=len(s)\n",
    "a=solve(s,0,n-1)\n",
    "print(a)"
   ]
  },
  {
   "cell_type": "code",
   "execution_count": 1,
   "id": "3e39adfb",
   "metadata": {},
   "outputs": [
    {
     "name": "stdout",
     "output_type": "stream",
     "text": [
      "3\n"
     ]
    }
   ],
   "source": [
    "# palindromic partition with memoization\n",
    "import sys\n",
    "def solve(s,i,j):\n",
    "    t=[[-1 for _ in range(j+1)] for _ in range(i+1)]\n",
    "    if(i>=j):\n",
    "        return 0\n",
    "    if(t[i][j]!=-1):\n",
    "        return t[i][j]\n",
    "    if( ispalindrome(s,i,j)==True): \n",
    "        return 0\n",
    "    mn=sys.maxsize\n",
    "    for k in range(i,j):\n",
    "        temp_ans=solve(s,i,k)+solve(s,k+1,j)+1\n",
    "    mn=min(mn,temp_ans)\n",
    "    t[i][j]=mn\n",
    "    return t[i][j]\n",
    "def ispalindrome(s,i,j):\n",
    "    if(i==j):\n",
    "        return True \n",
    "    if(i>j):\n",
    "        return True\n",
    "    while(i<j): \n",
    "        if(s[i]!=s[j]):\n",
    "            return False\n",
    "        i+=1\n",
    "        j-=1\n",
    "    return True\n",
    "s=\"adil\"\n",
    "n=len(s)\n",
    "a=solve(s,0,n-1)\n",
    "print(a)"
   ]
  },
  {
   "cell_type": "code",
   "execution_count": 21,
   "id": "b9127566",
   "metadata": {},
   "outputs": [
    {
     "name": "stdout",
     "output_type": "stream",
     "text": [
      "5\n"
     ]
    }
   ],
   "source": [
    "#evalute expression to True Boolean Parenthesization Recursive \n",
    "def solve(s,i,j,isTrue):\n",
    "    if(i>j):\n",
    "        return False\n",
    "    if(i==j):\n",
    "        if(isTrue==True):\n",
    "            return s[i]=='T'\n",
    "        else:\n",
    "            return s[i]=='F'\n",
    "    ans=0\n",
    "    k=i+1\n",
    "    while(k<j):\n",
    "        lt=solve(s,i,k-1,True)\n",
    "        lf=solve(s,i,k-1,False)\n",
    "        rt=solve(s,k+1,j,True)\n",
    "        rf=solve(s,k+1,j,False)\n",
    "        if(s[k]==\"^\"):\n",
    "            if(isTrue==True):\n",
    "                ans+=lt*rf+lf*rt\n",
    "            else:\n",
    "                ans+=lf*rf+lt*rt\n",
    "        elif(s[k]==\"&\"):\n",
    "            if(isTrue==True):\n",
    "                ans+=lt*rt\n",
    "            else:\n",
    "                ans+=lf*rt+lt*rf+lf*rf\n",
    "        elif(s[k]==\"|\"):\n",
    "            if(isTrue==True):\n",
    "                  ans+=lt*rt+lf*rt+lt*rf\n",
    "            else:\n",
    "                ans+=lf*rf\n",
    "        k+=2\n",
    "    return ans     \n",
    "s=\"T|F&T^F\"\n",
    "n=len(s)\n",
    "i=0\n",
    "j=n-1\n",
    "isTrue=True\n",
    "a=solve(s,i,j,isTrue)\n",
    "print(a)"
   ]
  },
  {
   "cell_type": "code",
   "execution_count": 42,
   "id": "2b7efab2",
   "metadata": {
    "scrolled": true
   },
   "outputs": [
    {
     "name": "stdout",
     "output_type": "stream",
     "text": [
      "2\n"
     ]
    }
   ],
   "source": [
    "#evalute expression to True Boolean Parenthesization with memoized\n",
    "def solve(s,i,j,isTrue):\n",
    "    if(i>j):\n",
    "        return False\n",
    "    if(i==j):\n",
    "        if(isTrue==True):\n",
    "            return s[i]=='T'\n",
    "        else:\n",
    "            return s[i]=='F'\n",
    "    mp={}\n",
    "    temp=[]\n",
    "    temp.append(str(i))\n",
    "    temp.append(\"\")\n",
    "    temp.append(str(j))\n",
    "    temp.append(\"\")\n",
    "    temp.append(str(isTrue))\n",
    "    s1=''.join(map(str,temp))\n",
    "    if(s1 in mp.keys()):\n",
    "        return mp[s1]\n",
    "    ans=0\n",
    "    k=i+1\n",
    "    while(k<j):\n",
    "        lt=solve(s,i,k-1,True)\n",
    "        lf=solve(s,i,k-1,False)\n",
    "        rt=solve(s,k+1,j,True)\n",
    "        rf=solve(s,k+1,j,False)\n",
    "        if(s[k]==\"^\"):\n",
    "            if(isTrue==True):\n",
    "                ans+=lt*rf+lf*rt\n",
    "            else:\n",
    "                ans+=lf*rf+lt*rt\n",
    "        elif(s[k]==\"&\"):\n",
    "            if(isTrue==True):\n",
    "                ans+=lt*rt\n",
    "            else:\n",
    "                ans+=lf*rt+lt*rf+lf*rf\n",
    "        elif(s[k]==\"|\"):\n",
    "            if(isTrue==True):\n",
    "                  ans+=lt*rt+lf*rt+lt*rf\n",
    "            else:\n",
    "                ans+=lf*rf\n",
    "        k+=2\n",
    "        mp[s1]=ans\n",
    "    return mp[s1]  \n",
    "s=\"T^F&T\"\n",
    "n=len(s)\n",
    "i=0\n",
    "j=n-1\n",
    "isTrue=True\n",
    "a=solve(s,i,j,isTrue)\n",
    "print(a)"
   ]
  },
  {
   "cell_type": "code",
   "execution_count": 6,
   "id": "fc689ebc",
   "metadata": {},
   "outputs": [
    {
     "name": "stdout",
     "output_type": "stream",
     "text": [
      "3\n"
     ]
    }
   ],
   "source": [
    "# Egg Dropping Problem Recursive\n",
    "import sys\n",
    "def solve(e,f):\n",
    "    if(e==1):\n",
    "        return f\n",
    "    if(f==0 or f==1):\n",
    "        return f\n",
    "    mn=sys.maxsize\n",
    "    for k in range(1,f+1):\n",
    "        temp=1+max(solve(e-1,k-1),solve(e,f-k))#max for worst case \n",
    "        mn=min(mn,temp)# min for min attempt\n",
    "    return mn\n",
    "No_Of_Eggs=3\n",
    "No_Of_floor=5\n",
    "a=solve(No_Of_Eggs,No_Of_floor)\n",
    "print(a)"
   ]
  },
  {
   "cell_type": "code",
   "execution_count": 8,
   "id": "fe770e84",
   "metadata": {},
   "outputs": [
    {
     "name": "stdout",
     "output_type": "stream",
     "text": [
      "3\n"
     ]
    }
   ],
   "source": [
    "# Egg Dropping Problem Memoization\n",
    "import sys\n",
    "def solve(e,f):\n",
    "    t=[[-1 for i in range(f+1)] for i in range(e+1)]\n",
    "    if(e==1):\n",
    "        return f\n",
    "    if(f==0 or f==1):\n",
    "        return f\n",
    "    if(t[e][f]!=-1):\n",
    "        return t[e][f]\n",
    "    mn=sys.maxsize\n",
    "    for k in range(1,f+1):\n",
    "        temp=1+max(solve(e-1,k-1),solve(e,f-k))\n",
    "        mn=min(mn,temp)\n",
    "        t[e][f]=mn\n",
    "    return t[e][f]\n",
    "No_Of_Eggs=3\n",
    "No_Of_floor=5\n",
    "a=solve(No_Of_Eggs,No_Of_floor)\n",
    "print(a)    \n"
   ]
  },
  {
   "cell_type": "code",
   "execution_count": 11,
   "id": "c3f35092",
   "metadata": {},
   "outputs": [
    {
     "name": "stdout",
     "output_type": "stream",
     "text": [
      "3\n"
     ]
    }
   ],
   "source": [
    "# optimization of egg dropping prblm\n",
    "import sys\n",
    "def solve(e,f):\n",
    "    t=[[-1 for i in range(f+1)] for i in range(e+1)]\n",
    "    if(e==1):\n",
    "        return f\n",
    "    if(f==0 or f==1):\n",
    "        return f\n",
    "    if(t[e][f]!=-1):\n",
    "        return t[e][f]\n",
    "    mn=sys.maxsize\n",
    "    for k in range(1,f+1):\n",
    "        if(t[e-1][k-1]!=-1):\n",
    "            low=t[e-1][k-1]\n",
    "        else:\n",
    "            low=solve(e-1,k-1)\n",
    "            t[e-1][k-1]=low\n",
    "        if(t[e][f-k]!=-1):\n",
    "            high=t[e][f-k]\n",
    "        else:\n",
    "            high=solve(e,f-k)\n",
    "            t[e][f-k]=high\n",
    "        temp=1+max(low,high)\n",
    "        mn=min(mn,temp)\n",
    "        t[e][f]=mn\n",
    "    return t[e][f]\n",
    "No_Of_Eggs=3\n",
    "No_Of_floor=5\n",
    "a=solve(No_Of_Eggs,No_Of_floor)\n",
    "print(a)  "
   ]
  }
 ],
 "metadata": {
  "kernelspec": {
   "display_name": "Python 3 (ipykernel)",
   "language": "python",
   "name": "python3"
  },
  "language_info": {
   "codemirror_mode": {
    "name": "ipython",
    "version": 3
   },
   "file_extension": ".py",
   "mimetype": "text/x-python",
   "name": "python",
   "nbconvert_exporter": "python",
   "pygments_lexer": "ipython3",
   "version": "3.9.12"
  }
 },
 "nbformat": 4,
 "nbformat_minor": 5
}
